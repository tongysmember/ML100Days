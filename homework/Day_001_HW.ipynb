{
 "cells": [
  {
   "cell_type": "markdown",
   "metadata": {},
   "source": [
    "## 練習時間\n",
    "#### 請寫一個函式用來計算 Mean Square Error\n",
    "$ MSE = \\frac{1}{n}\\sum_{i=1}^{n}{(Y_i - \\hat{Y}_i)^2} $\n",
    "\n",
    "### Hint: [如何取平方](https://googoodesign.gitbooks.io/-ezpython/unit-1.html)"
   ]
  },
  {
   "cell_type": "markdown",
   "metadata": {},
   "source": [
    "# [作業目標]\n",
    "- 仿造範例的MAE函數, 自己寫一個MSE函數(參考上面公式)"
   ]
  },
  {
   "cell_type": "markdown",
   "metadata": {},
   "source": [
    "# [作業重點]\n",
    "- 注意程式的縮排\n",
    "- 是否能將數學公式, 轉換為 Python 的函式組合? (In[2], Out[2])"
   ]
  },
  {
   "cell_type": "code",
   "execution_count": 4,
   "metadata": {},
   "outputs": [],
   "source": [
    "# 載入基礎套件與代稱\n",
    "import numpy as np\n",
    "import matplotlib.pyplot as plt"
   ]
  },
  {
   "cell_type": "code",
   "execution_count": 5,
   "metadata": {},
   "outputs": [],
   "source": [
    "def mean_absolute_error(y, yp):\n",
    "    \"\"\"\n",
    "    計算 MAE\n",
    "    Args:\n",
    "        - y: 實際值\n",
    "        - yp: 預測值\n",
    "    Return:\n",
    "        - mae: MAE\n",
    "    \"\"\"\n",
    "    mae = MAE = sum(abs(y - yp)) / len(y)\n",
    "    return mae\n",
    "\n",
    "# 定義 mean_squared_error 這個函數, 計算並傳回 MSE\n",
    "def mean_squared_error(x,xp):\n",
    "    \"\"\"\n",
    "    請完成這個 Function 後往下執行\n",
    "    計算 MSE \n",
    "    Args:\n",
    "        - x: 實際值\n",
    "        - xp: 預測值\n",
    "    Return:\n",
    "        - mse: MSE\n",
    "    \"\"\"\n",
    "    mse = sum(pow((x - xp),2)) / len(x)\n",
    "    return mse"
   ]
  },
  {
   "cell_type": "code",
   "execution_count": 6,
   "metadata": {},
   "outputs": [
    {
     "data": {
      "image/png": "[encoded data removed]",
      "text/plain": [
       "<Figure size 432x288 with 1 Axes>"
      ]
     },
     "metadata": {
      "needs_background": "light"
     },
     "output_type": "display_data"
    }
   ],
   "source": [
    "# 與範例相同, 不另外解說\n",
    "w = 3\n",
    "b = 0.5\n",
    "x_lin = np.linspace(0, 100, 101)\n",
    "y = (x_lin + np.random.randn(101) * 5) * w + b\n",
    "\n",
    "plt.plot(x_lin, y, 'b.', label = 'data points')\n",
    "plt.title(\"Assume we have data points\")\n",
    "plt.legend(loc = 2)\n",
    "plt.show()"
   ]
  },
  {
   "cell_type": "code",
   "execution_count": 7,
   "metadata": {},
   "outputs": [
    {
     "data": {
      "image/png": "[encoded data removed]",
      "text/plain": [
       "<Figure size 432x288 with 1 Axes>"
      ]
     },
     "metadata": {
      "needs_background": "light"
     },
     "output_type": "display_data"
    }
   ],
   "source": [
    "# 與範例相同, 不另外解說\n",
    "y_hat = x_lin * w + b\n",
    "plt.plot(x_lin, y, 'b.', label = 'data')\n",
    "plt.plot(x_lin, y_hat, 'r-', label = 'prediction')\n",
    "plt.title(\"Assume we have data points (And the prediction)\")\n",
    "plt.legend(loc = 2)\n",
    "plt.show()"
   ]
  },
  {
   "cell_type": "code",
   "execution_count": 8,
   "metadata": {},
   "outputs": [
    {
     "name": "stdout",
     "output_type": "stream",
     "text": [
      "The Mean squared error is 200.493\n",
      "The Mean absolute error is 10.872\n"
     ]
    }
   ],
   "source": [
    "# 執行 Function, 確認有沒有正常執行\n",
    "MSE = mean_squared_error(y, y_hat)\n",
    "MAE = mean_absolute_error(y, y_hat)\n",
    "print(\"The Mean squared error is %.3f\" % (MSE))\n",
    "print(\"The Mean absolute error is %.3f\" % (MAE))"
   ]
  },
  {
   "cell_type": "markdown",
   "metadata": {},
   "source": [
    "# [作業2]\n",
    "\n",
    "請上 Kaggle, 在 Competitions 或 Dataset 中找一組競賽或資料並寫下：\n",
    "\n",
    "1. 你選的這組資料為何重要\n",
    "\n",
    "2. 資料從何而來 (tips: 譬如提供者是誰、以什麼方式蒐集)\n",
    "\n",
    "3. 蒐集而來的資料型態為何\n",
    "\n",
    "4. 這組資料想解決的問題如何評估\n",
    "\n",
    "# [作業3]\n",
    "\n",
    "想像你經營一個自由載客車隊，你希望能透過數據分析以提升業績，請你思考並描述你如何規劃整體的分析/解決方案：\n",
    "\n",
    "1. 核心問題為何 (tips：如何定義 「提升業績 & 你的假設」)\n",
    "\n",
    "2. 資料從何而來 (tips：哪些資料可能會對你想問的問題產生影響 & 資料如何蒐集)\n",
    "\n",
    "3. 蒐集而來的資料型態為何\n",
    "\n",
    "4. 你要回答的問題，其如何評估 (tips：你的假設如何驗證)"
   ]
  },
  {
   "cell_type": "markdown",
   "metadata": {},
   "source": [
    "# [作業2]\n",
    "\n",
    "請上 Kaggle, 在 Competitions 或 Dataset 中找一組競賽或資料並寫下：\n",
    "\n",
    "1. 你選的這組資料為何重要\n",
    "#Fake and real news dataset\n",
    "\n",
    "2. 資料從何而來 (tips: 譬如提供者是誰、以什麼方式蒐集)\n",
    "#期刊資料作者:Ahmed H, Traore I, Saad S. “Detecting opinion spams and fake news using text classification”, Journal of Security and Privacy, Volume 1, Issue 1, Wiley, January/February 2018.\n",
    "#資料來源:The truthful articles were obtained by crawling articles from Reuters.com (News website). As for the fake news articles, they were collected from different sources. The fake news articles were collected from unreliable websites that were flagged by Politifact)\n",
    "\n",
    "3. 蒐集而來的資料型態為何\n",
    "#Truth and Fake news CSV File (title, text, subject, date)\n",
    "\n",
    "4. 這組資料想解決的問題如何評估\n",
    "#分類出假新聞資料，透過\n",
    "\n",
    "# [作業3]\n",
    "\n",
    "想像你經營一個自由載客車隊，你希望能透過數據分析以提升業績，請你思考並描述你如何規劃整體的分析/解決方案：\n",
    "\n",
    "1. 核心問題為何 (tips：如何定義 「提升業績 & 你的假設」)\n",
    "#提升業績>載客量提升(地點，時段，事件) 消費額度上升(載客品質上升，里程數提升)\n",
    "#你的假設>原先客群為搭乘計程車客戶，分別為其他業者所共同服務，可從此類客戶加強服務，積極培養成長期客戶。\n",
    "#大眾工具客群，透過數據分析出公眾交通的熱門路段，了解熱門交通路線\n",
    "\n",
    "\n",
    "2. 資料從何而來 (tips：哪些資料可能會對你想問的問題產生影響 & 資料如何蒐集)\n",
    "#台北市MR出入站公開資料:https://web.metro.taipei/RidershipPerStation/202004_cht.ods\n",
    "#計程車營運狀況調查:https://scidm.nchc.org.tw/dataset/315000000h-000008\n",
    "\n",
    "3. 蒐集而來的資料型態為何\n",
    "#ODF格式(OpenDocument Format)-ODS檔案\n",
    "#Ref:https://www.ithome.com.tw/article/117301\n",
    "#CSV file\n",
    "\n",
    "4. 你要回答的問題，其如何評估 (tips：你的假設如何驗證)\n",
    "#取得捷運局所提供進出站量，了解人流密集出站點，提升載客率"
   ]
  },
  {
   "cell_type": "code",
   "execution_count": 47,
   "metadata": {},
   "outputs": [
    {
     "name": "stdout",
     "output_type": "stream",
     "text": [
      "            　　　　車站\\n日期    松山機場     中山國中     南京復興     忠孝復興       大安     科技大樓  \\\n",
      "0  2020-04-01T00:00:00  3892.0  12565.0  37543.0  37066.0  23355.0  12627.0   \n",
      "1  2020-04-02T00:00:00  2103.0   4995.0  12716.0  25869.0   8425.0   4879.0   \n",
      "2  2020-04-03T00:00:00  1523.0   4692.0  11493.0  24777.0   7905.0   4674.0   \n",
      "3  2020-04-04T00:00:00  1104.0   4230.0  10166.0  21361.0   7674.0   4259.0   \n",
      "4  2020-04-05T00:00:00  1502.0   4401.0  10193.0  20425.0   7268.0   4941.0   \n",
      "\n",
      "       六張犁      麟光      辛亥  ...     秀朗橋      景平      中和      橋和      中原  \\\n",
      "0  10195.0  3373.0  2642.0  ...  2102.0  2971.0  3824.0  1542.0  2340.0   \n",
      "1   4667.0  2067.0  1310.0  ...  1388.0  1697.0  2671.0   727.0   763.0   \n",
      "2   4548.0  2201.0  1283.0  ...  1454.0  1712.0  2622.0   724.0   646.0   \n",
      "3   4123.0  2227.0  1245.0  ...  1310.0  1660.0  2532.0   642.0   567.0   \n",
      "4   4382.0  2191.0  1328.0  ...  1466.0  1829.0  2631.0   578.0   591.0   \n",
      "\n",
      "       板新     Y板橋    新埔民生      幸福  新北產業園區  \n",
      "0  2175.0  7349.0  2289.0  2965.0  2916.0  \n",
      "1  1156.0  5696.0  1550.0  1841.0  1478.0  \n",
      "2  1117.0  4502.0  1485.0  1749.0  1361.0  \n",
      "3  1050.0  3672.0  1326.0  1698.0  1243.0  \n",
      "4   982.0  4261.0  1316.0  1717.0  1378.0  \n",
      "\n",
      "[5 rows x 120 columns]\n",
      "            　　　　車站\\n日期    松山機場     中山國中     南京復興     忠孝復興       大安     科技大樓  \\\n",
      "0  2020-04-01T00:00:00  3880.0  12994.0  34734.0  36969.0  23826.0  13409.0   \n",
      "1  2020-04-02T00:00:00  1694.0   5329.0  12287.0  26138.0   8224.0   5398.0   \n",
      "2  2020-04-03T00:00:00  1383.0   4940.0  10945.0  24956.0   7779.0   4854.0   \n",
      "3  2020-04-04T00:00:00  1472.0   4292.0   9430.0  21179.0   7274.0   4292.0   \n",
      "4  2020-04-05T00:00:00  2355.0   4183.0   9252.0  20296.0   6602.0   4614.0   \n",
      "\n",
      "       六張犁      麟光      辛亥  ...     秀朗橋      景平      中和      橋和      中原  \\\n",
      "0  10737.0  3947.0  3075.0  ...  1999.0  2709.0  3672.0  1558.0  2420.0   \n",
      "1   5038.0  2568.0  1488.0  ...  1480.0  1893.0  2840.0   611.0   715.0   \n",
      "2   4636.0  2352.0  1406.0  ...  1420.0  1652.0  2714.0   704.0   632.0   \n",
      "3   4004.0  2221.0  1308.0  ...  1198.0  1440.0  2324.0   539.0   522.0   \n",
      "4   3835.0  2018.0  1158.0  ...  1260.0  1485.0  2369.0   486.0   525.0   \n",
      "\n",
      "       板新     Y板橋    新埔民生      幸福  新北產業園區  \n",
      "0  2093.0  6654.0  2105.0  2567.0  2960.0  \n",
      "1  1211.0  4419.0  1518.0  1815.0  1487.0  \n",
      "2  1116.0  4194.0  1464.0  1673.0  1359.0  \n",
      "3  1030.0  4847.0  1312.0  1370.0  1201.0  \n",
      "4   936.0  6951.0  1245.0  1446.0  1272.0  \n",
      "\n",
      "[5 rows x 120 columns]\n"
     ]
    }
   ],
   "source": [
    "import requests\n",
    "from pandas_ods_reader import read_ods\n",
    "import os\n",
    "url = 'https://web.metro.taipei/RidershipPerStation/202004_cht.ods'\n",
    "r = requests.get(url, allow_redirects=True)\n",
    "#Save MRT Ods File into LocalStorage\n",
    "#open('MRT04.ods', 'wb').write(r.content)\n",
    "os.path.abspath(os.getcwd())\n",
    "#print(os.getcwd()+'\\\\MRT04.ods')\n",
    "Exit_idx,Into_idx = 1,2\n",
    "df_Exit = read_ods(os.getcwd()+'\\\\MRT04.ods', Exit_idx)\n",
    "df_Into = read_ods(os.getcwd()+'\\\\MRT04.ods', Into_idx)\n",
    "print(df_Exit.head())\n",
    "print(df_Into.head())\n",
    "\n"
   ]
  },
  {
   "cell_type": "code",
   "execution_count": null,
   "metadata": {},
   "outputs": [],
   "source": []
  },
  {
   "cell_type": "code",
   "execution_count": null,
   "metadata": {},
   "outputs": [],
   "source": []
  },
  {
   "cell_type": "code",
   "execution_count": null,
   "metadata": {},
   "outputs": [],
   "source": []
  },
  {
   "cell_type": "code",
   "execution_count": null,
   "metadata": {},
   "outputs": [],
   "source": []
  },
  {
   "cell_type": "code",
   "execution_count": null,
   "metadata": {},
   "outputs": [],
   "source": []
  },
  {
   "cell_type": "code",
   "execution_count": null,
   "metadata": {},
   "outputs": [],
   "source": []
  },
  {
   "cell_type": "code",
   "execution_count": null,
   "metadata": {},
   "outputs": [],
   "source": []
  }
 ],
 "metadata": {
  "anaconda-cloud": {},
  "kernelspec": {
   "display_name": "Python 3",
   "language": "python",
   "name": "python3"
  },
  "language_info": {
   "codemirror_mode": {
    "name": "ipython",
    "version": 3
   },
   "file_extension": ".py",
   "mimetype": "text/x-python",
   "name": "python",
   "nbconvert_exporter": "python",
   "pygments_lexer": "ipython3",
   "version": "3.7.6"
  },
  "widgets": {
   "application/vnd.jupyter.widget-state+json": {
    "state": {},
    "version_major": 2,
    "version_minor": 0
   }
  }
 },
 "nbformat": 4,
 "nbformat_minor": 1
}
